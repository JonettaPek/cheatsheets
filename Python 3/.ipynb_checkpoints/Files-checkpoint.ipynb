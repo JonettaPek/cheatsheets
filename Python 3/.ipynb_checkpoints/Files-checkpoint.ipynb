{
 "cells": [
  {
   "cell_type": "markdown",
   "id": "b2bcc8b9",
   "metadata": {},
   "source": [
    "# Files\n",
    "___By Jonetta Pek  \n",
    "23 April 2023___"
   ]
  },
  {
   "cell_type": "markdown",
   "id": "4b8b806c",
   "metadata": {},
   "source": [
    "- The `open(filename: str, mode: str)` function is used to open a given file in one of the three modes: read 'r', write 'w' or append 'a'.  \n",
    "- The `with` keyword is typically used to open resources, such as a file or database connection, as it manages and closes them after operations within the execution block are performed.\n",
    "- Without the `with` keyword, the file needs to be explicitly closed using the `.close()` method"
   ]
  },
  {
   "cell_type": "markdown",
   "id": "6512dcf2",
   "metadata": {},
   "source": [
    "__Without the `with` keyword:__"
   ]
  },
  {
   "cell_type": "code",
   "execution_count": 1,
   "id": "efec9469",
   "metadata": {},
   "outputs": [
    {
     "name": "stdout",
     "output_type": "stream",
     "text": [
      "Line 2\n",
      "\n"
     ]
    }
   ],
   "source": [
    "file = open('output.txt', 'w')\n",
    "file.write('Line 1\\n')\n",
    "file.write('Line 2\\n')\n",
    "file.close()\n",
    "\n",
    "file = open('output.txt', 'r')\n",
    "next(file)\n",
    "print(file.readline())\n",
    "file.close()"
   ]
  },
  {
   "cell_type": "markdown",
   "id": "29e8459f",
   "metadata": {},
   "source": [
    "__With the `with` keyword:__"
   ]
  },
  {
   "cell_type": "code",
   "execution_count": 2,
   "id": "b812a04c",
   "metadata": {},
   "outputs": [
    {
     "name": "stdout",
     "output_type": "stream",
     "text": [
      "['Line 1\\n', 'Line 2\\n']\n"
     ]
    }
   ],
   "source": [
    "with open('output.txt', 'r') as file:\n",
    "    print(file.readlines())"
   ]
  },
  {
   "cell_type": "markdown",
   "id": "31eb73f3",
   "metadata": {},
   "source": [
    "The `file` variable is still accessible as it is part of the global/`__main__` function's local scope. However, any operations on this file object will not work as it has been closed."
   ]
  },
  {
   "cell_type": "code",
   "execution_count": 3,
   "id": "b33e089a",
   "metadata": {},
   "outputs": [
    {
     "name": "stdout",
     "output_type": "stream",
     "text": [
      "__main__\n",
      "<_io.TextIOWrapper name='output.txt' mode='r' encoding='cp1252'>\n"
     ]
    },
    {
     "ename": "ValueError",
     "evalue": "I/O operation on closed file.",
     "output_type": "error",
     "traceback": [
      "\u001b[1;31m---------------------------------------------------------------------------\u001b[0m",
      "\u001b[1;31mValueError\u001b[0m                                Traceback (most recent call last)",
      "Cell \u001b[1;32mIn[3], line 3\u001b[0m\n\u001b[0;32m      1\u001b[0m \u001b[38;5;28mprint\u001b[39m(\u001b[38;5;18m__name__\u001b[39m)\n\u001b[0;32m      2\u001b[0m \u001b[38;5;28mprint\u001b[39m(file)\n\u001b[1;32m----> 3\u001b[0m \u001b[43mfile\u001b[49m\u001b[38;5;241;43m.\u001b[39;49m\u001b[43mreadline\u001b[49m\u001b[43m(\u001b[49m\u001b[43m)\u001b[49m\n",
      "\u001b[1;31mValueError\u001b[0m: I/O operation on closed file."
     ]
    }
   ],
   "source": [
    "print(__name__)\n",
    "print(file)\n",
    "file.readline()"
   ]
  },
  {
   "cell_type": "markdown",
   "id": "7c252c40",
   "metadata": {},
   "source": [
    "### Writing to a File\n",
    "When a file is opened in write mode, it can be written to using `.write(text: str)` method."
   ]
  },
  {
   "cell_type": "code",
   "execution_count": 4,
   "id": "76750e9f",
   "metadata": {},
   "outputs": [],
   "source": [
    "with open('output.txt', 'w') as file:\n",
    "    file.write('Line 1\\n')\n",
    "    file.write('Line 2\\n')\n",
    "    file.write('Line 3\\n')\n",
    "    file.write('Line 4\\n')"
   ]
  },
  {
   "cell_type": "markdown",
   "id": "1995618b",
   "metadata": {},
   "source": [
    "### Reading from a File"
   ]
  },
  {
   "cell_type": "markdown",
   "id": "0e3723f6",
   "metadata": {},
   "source": [
    "When a file is opened in read mode, it can be read from using `.readline()` or `.readlines()` methods that return a single string or a list of strings, respectively. The `next(var: file object)` function skips a line in the file and returns the next line."
   ]
  },
  {
   "cell_type": "code",
   "execution_count": 5,
   "id": "5c4c6f6a",
   "metadata": {},
   "outputs": [
    {
     "name": "stdout",
     "output_type": "stream",
     "text": [
      "Line 2\n",
      "\n",
      "['Line 3\\n', 'Line 4\\n']\n"
     ]
    }
   ],
   "source": [
    "with open('output.txt', 'r') as file:\n",
    "    next(file)\n",
    "    print(file.readline())\n",
    "    print(file.readlines())"
   ]
  },
  {
   "cell_type": "markdown",
   "id": "e83b59be",
   "metadata": {},
   "source": [
    "The list returned by `.readlines()` method can be iterated over using the `for` loop as such:"
   ]
  },
  {
   "cell_type": "code",
   "execution_count": 6,
   "id": "371594a6",
   "metadata": {},
   "outputs": [
    {
     "name": "stdout",
     "output_type": "stream",
     "text": [
      "Line 1\n",
      "Line 2\n",
      "Line 3\n",
      "Line 4\n"
     ]
    }
   ],
   "source": [
    "with open('output.txt', 'r') as file:\n",
    "    for line in file.readlines():\n",
    "        print(line.strip())"
   ]
  },
  {
   "cell_type": "markdown",
   "id": "9ba557fb",
   "metadata": {},
   "source": [
    "### Write to a File in CSV format"
   ]
  },
  {
   "cell_type": "code",
   "execution_count": 7,
   "id": "e69949d5",
   "metadata": {},
   "outputs": [],
   "source": [
    "import csv"
   ]
  },
  {
   "cell_type": "code",
   "execution_count": 11,
   "id": "cbcf0e1e",
   "metadata": {},
   "outputs": [],
   "source": [
    "data = [{'name': 'Jonetta', 'age': 18, 'gender': 'F'},\n",
    "        {'name': 'John', 'age': 45, 'gender': 'M'},\n",
    "        {'name': 'Jane', 'age': 28, 'gender': 'F'}]\n",
    "with open('output.csv', 'w') as file:\n",
    "    csv_writer = csv.writer(file)\n",
    "    for person in data:\n",
    "        csv_writer.writerow([person['name'], person['age']])\n",
    "        "
   ]
  }
 ],
 "metadata": {
  "kernelspec": {
   "display_name": "Python 3 (ipykernel)",
   "language": "python",
   "name": "python3"
  },
  "language_info": {
   "codemirror_mode": {
    "name": "ipython",
    "version": 3
   },
   "file_extension": ".py",
   "mimetype": "text/x-python",
   "name": "python",
   "nbconvert_exporter": "python",
   "pygments_lexer": "ipython3",
   "version": "3.11.3"
  }
 },
 "nbformat": 4,
 "nbformat_minor": 5
}
