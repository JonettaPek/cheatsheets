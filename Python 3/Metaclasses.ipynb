{
 "cells": [
  {
   "cell_type": "markdown",
   "id": "1760d7e8",
   "metadata": {},
   "source": [
    "# Metaclasses"
   ]
  },
  {
   "cell_type": "code",
   "execution_count": 7,
   "id": "a879f9e0",
   "metadata": {},
   "outputs": [
    {
     "name": "stdout",
     "output_type": "stream",
     "text": [
      "Dog\n",
      "(<class '__main__.Animal'>,)\n",
      "{'__module__': '__main__', '__qualname__': 'Dog', '_legs': 4, 'speak': <function Dog.speak at 0x00000184B001D3A0>}\n"
     ]
    }
   ],
   "source": [
    "class Meta(type):\n",
    "    def __new__(self, class_name, bases, attr):\n",
    "        print(class_name)\n",
    "        print(bases)\n",
    "        print(attr)\n",
    "        \n",
    "class Animal:\n",
    "    _legs = 0\n",
    "    def speak(self):\n",
    "        print('Hello')\n",
    "    \n",
    "class Dog(Animal, metaclass=Meta):\n",
    "    _legs = 4\n",
    "    def speak(self):\n",
    "        print('Bark')"
   ]
  },
  {
   "cell_type": "code",
   "execution_count": null,
   "id": "354c28a7",
   "metadata": {},
   "outputs": [],
   "source": []
  }
 ],
 "metadata": {
  "kernelspec": {
   "display_name": "Python 3 (ipykernel)",
   "language": "python",
   "name": "python3"
  },
  "language_info": {
   "codemirror_mode": {
    "name": "ipython",
    "version": 3
   },
   "file_extension": ".py",
   "mimetype": "text/x-python",
   "name": "python",
   "nbconvert_exporter": "python",
   "pygments_lexer": "ipython3",
   "version": "3.11.3"
  }
 },
 "nbformat": 4,
 "nbformat_minor": 5
}
