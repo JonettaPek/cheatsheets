{
 "cells": [
  {
   "cell_type": "markdown",
   "id": "c63f1cb0",
   "metadata": {},
   "source": [
    "# Magic or Dunder Methods\n",
    "Dunder methods, short for Double Underscore methods, are special methods that start and end with two underscores. Magic methods are not meant to be invoked directly by you, but the invocation happens internally from the class on a certain action. Built-in classes in Python define many dunder methods. Use `dir(class)` to view a list of attributes and dunder methods."
   ]
  },
  {
   "cell_type": "code",
   "execution_count": 24,
   "id": "6f7b4483",
   "metadata": {},
   "outputs": [
    {
     "name": "stdout",
     "output_type": "stream",
     "text": [
      "['__abs__', '__add__', '__and__', '__bool__', '__ceil__', '__class__', '__delattr__', '__dir__', '__divmod__', '__doc__', '__eq__', '__float__', '__floor__', '__floordiv__', '__format__', '__ge__', '__getattribute__', '__getnewargs__', '__getstate__', '__gt__', '__hash__', '__index__', '__init__', '__init_subclass__', '__int__', '__invert__', '__le__', '__lshift__', '__lt__', '__mod__', '__mul__', '__ne__', '__neg__', '__new__', '__or__', '__pos__', '__pow__', '__radd__', '__rand__', '__rdivmod__', '__reduce__', '__reduce_ex__', '__repr__', '__rfloordiv__', '__rlshift__', '__rmod__', '__rmul__', '__ror__', '__round__', '__rpow__', '__rrshift__', '__rshift__', '__rsub__', '__rtruediv__', '__rxor__', '__setattr__', '__sizeof__', '__str__', '__sub__', '__subclasshook__', '__truediv__', '__trunc__', '__xor__', 'as_integer_ratio', 'bit_count', 'bit_length', 'conjugate', 'denominator', 'from_bytes', 'imag', 'numerator', 'real', 'to_bytes']\n"
     ]
    }
   ],
   "source": [
    "print(dir(int))"
   ]
  },
  {
   "cell_type": "markdown",
   "id": "51772dc4",
   "metadata": {},
   "source": [
    "\n",
    "# \\_\\_init\\_\\_\n",
    "\n",
    "Executing the statement `Dog('Tim', 4)`, i.e. class name and parentheses with optional arguments, implicitly calls the `__init__(self, name, legs)` dunder method."
   ]
  },
  {
   "cell_type": "code",
   "execution_count": 25,
   "id": "ea08ace1",
   "metadata": {},
   "outputs": [
    {
     "name": "stdout",
     "output_type": "stream",
     "text": [
      "Attributes are being initialized.\n",
      "Tim\n",
      "4\n"
     ]
    }
   ],
   "source": [
    "class Dog:\n",
    "    def __init__(self, name, legs):\n",
    "        self._name = name\n",
    "        self._legs = legs\n",
    "        print('Attributes are being initialized.')\n",
    "        \n",
    "dog = Dog('Tim', 4)\n",
    "print(dog._name)\n",
    "print(dog._legs)"
   ]
  },
  {
   "cell_type": "markdown",
   "id": "0d66f348",
   "metadata": {},
   "source": [
    "# \\_\\_repr\\_\\_\n",
    "Executing the statement `dog`, i.e. a variable containing the memory address of the object, implicitly calls the `__repr__(self)` dunder method. When `__repr__(self)` method is not implemented, the memory address of the object is returned."
   ]
  },
  {
   "cell_type": "code",
   "execution_count": 26,
   "id": "2e1db6f9",
   "metadata": {},
   "outputs": [
    {
     "data": {
      "text/plain": [
       "<__main__.Dog at 0x23277a94a50>"
      ]
     },
     "execution_count": 26,
     "metadata": {},
     "output_type": "execute_result"
    }
   ],
   "source": [
    "dog"
   ]
  },
  {
   "cell_type": "code",
   "execution_count": 27,
   "id": "ba640dd8",
   "metadata": {},
   "outputs": [
    {
     "data": {
      "text/plain": [
       "Dog(name=Tim, legs=4)"
      ]
     },
     "execution_count": 27,
     "metadata": {},
     "output_type": "execute_result"
    }
   ],
   "source": [
    "class Dog:\n",
    "    def __init__(self, name, legs):\n",
    "        self._name = name\n",
    "        self._legs = legs\n",
    "        \n",
    "    def __repr__(self):\n",
    "        return f'Dog(name={self._name}, legs={self._legs})'\n",
    "        \n",
    "dog = Dog('Tim', 4)\n",
    "dog"
   ]
  },
  {
   "cell_type": "markdown",
   "id": "2ab4379b",
   "metadata": {},
   "source": [
    "Executiing the function `repr(obj)` also implicitly calls the `__repr__(self)` method."
   ]
  },
  {
   "cell_type": "code",
   "execution_count": 34,
   "id": "f4e30bc0",
   "metadata": {},
   "outputs": [
    {
     "data": {
      "text/plain": [
       "'Dog(name=Tim, legs=4)'"
      ]
     },
     "execution_count": 34,
     "metadata": {},
     "output_type": "execute_result"
    }
   ],
   "source": [
    "repr(dog)"
   ]
  },
  {
   "cell_type": "markdown",
   "id": "09e8db87",
   "metadata": {},
   "source": [
    "# \\_\\_call\\_\\_\n",
    "\n",
    "Executing the statement `dog()`, i.e. instance and empty parentheses, implicitly calls the `__call__(self)` dunder method. Implementing the `__call__(self)` method allows instances of the class to become callable."
   ]
  },
  {
   "cell_type": "code",
   "execution_count": 30,
   "id": "0fabf95c",
   "metadata": {},
   "outputs": [
    {
     "name": "stdout",
     "output_type": "stream",
     "text": [
      "Dog(name=Tim, legs=4) is being called. Come to me, cutie.\n"
     ]
    }
   ],
   "source": [
    "class Dog:\n",
    "    def __init__(self, name, legs):\n",
    "        self._name = name\n",
    "        self._legs = legs\n",
    "        \n",
    "    def __repr__(self):\n",
    "        return f'Dog(name={self._name}, legs={self._legs})'\n",
    "        \n",
    "    def __call__(self):\n",
    "        print(f'{self} is being called. Come to me, cutie.')\n",
    "        \n",
    "dog = Dog('Tim', 4)\n",
    "dog()"
   ]
  },
  {
   "cell_type": "markdown",
   "id": "79bb1cf2",
   "metadata": {},
   "source": [
    "# \\_\\_str\\_\\_"
   ]
  },
  {
   "cell_type": "code",
   "execution_count": 50,
   "id": "07ec31c9",
   "metadata": {},
   "outputs": [],
   "source": [
    "class Dog:\n",
    "    def __init__(self, name, legs):\n",
    "        self._name = name\n",
    "        self._legs = legs\n",
    "        \n",
    "    def __repr__(self):\n",
    "        return f'Dog(name={self._name}, legs={self._legs})'\n",
    "        \n",
    "    def __call__(self):\n",
    "        print(f'{self} is being called. Come to me, cutie.')\n",
    "        \n",
    "    def __str__(self):\n",
    "        return 'Hello'"
   ]
  },
  {
   "cell_type": "code",
   "execution_count": 54,
   "id": "03bbb3a9",
   "metadata": {},
   "outputs": [
    {
     "data": {
      "text/plain": [
       "'Hello'"
      ]
     },
     "execution_count": 54,
     "metadata": {},
     "output_type": "execute_result"
    }
   ],
   "source": [
    "dog = Dog('John', 4)\n",
    "dog.__str__()"
   ]
  },
  {
   "cell_type": "code",
   "execution_count": null,
   "id": "346aef67",
   "metadata": {},
   "outputs": [],
   "source": []
  }
 ],
 "metadata": {
  "kernelspec": {
   "display_name": "Python 3 (ipykernel)",
   "language": "python",
   "name": "python3"
  },
  "language_info": {
   "codemirror_mode": {
    "name": "ipython",
    "version": 3
   },
   "file_extension": ".py",
   "mimetype": "text/x-python",
   "name": "python",
   "nbconvert_exporter": "python",
   "pygments_lexer": "ipython3",
   "version": "3.11.3"
  }
 },
 "nbformat": 4,
 "nbformat_minor": 5
}
