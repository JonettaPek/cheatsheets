{
 "cells": [
  {
   "cell_type": "markdown",
   "id": "d93c3a7a",
   "metadata": {},
   "source": [
    "# Python and Decorators"
   ]
  },
  {
   "cell_type": "markdown",
   "id": "a4b0a4d3",
   "metadata": {},
   "source": [
    "___21 April 2023  \n",
    "By Jonetta Pek___\n",
    "\n",
    "Content:\n",
    "- Simple Decorators\n",
    "    - Basis of Decorators\n",
    "        - Functions passed as Arguments\n",
    "        - Defining a Function with another Function\n",
    "        - Returning a Function\n",
    "    - General Syntax\n",
    "    - Code Path\n",
    "    - Arbitrary Parameters\n",
    "    \n",
    "- Complex Decorators\n",
    "    - Decorating a Class\n",
    "    - Decorating a Function with Multiple Decorators\n",
    "    - Creating a Dynamic/Configurable Decorator with Arguments\n",
    "    - Stateful Decorators using Function Attribute\n",
    "    - Classes as Decorators\n"
   ]
  },
  {
   "cell_type": "markdown",
   "id": "86f4bb57",
   "metadata": {},
   "source": [
    "### Simple Decorators\n",
    "Decorators are often functions used to extend functionality of functions and methods, without modifying the underlying functions and methods permanently.  \n",
    "###### Functions passed as Arguments"
   ]
  },
  {
   "cell_type": "code",
   "execution_count": 45,
   "id": "6a267a64",
   "metadata": {},
   "outputs": [],
   "source": [
    "def wrapper(func):\n",
    "    func()\n",
    "    \n",
    "def say_hello():\n",
    "    print('Hello!')"
   ]
  },
  {
   "cell_type": "code",
   "execution_count": 46,
   "id": "797367f1",
   "metadata": {},
   "outputs": [
    {
     "name": "stdout",
     "output_type": "stream",
     "text": [
      "Hello!\n"
     ]
    }
   ],
   "source": [
    "wrapper(say_hello)"
   ]
  },
  {
   "cell_type": "markdown",
   "id": "9c3878d6",
   "metadata": {},
   "source": [
    "In the above example, a reference to the `say_hello()` function is passed into the `wrapper()` function as an argument and called from within it. A function is essentially an object in python."
   ]
  },
  {
   "cell_type": "markdown",
   "id": "a61881c3",
   "metadata": {},
   "source": [
    "###### Defining a Function within another Function"
   ]
  },
  {
   "cell_type": "code",
   "execution_count": 36,
   "id": "6a47e17b",
   "metadata": {},
   "outputs": [],
   "source": [
    "def decorator(func):\n",
    "    def wrapper():\n",
    "        func()\n",
    "    return wrapper"
   ]
  },
  {
   "cell_type": "code",
   "execution_count": 39,
   "id": "68b7c188",
   "metadata": {},
   "outputs": [
    {
     "name": "stdout",
     "output_type": "stream",
     "text": [
      "Hello!\n"
     ]
    }
   ],
   "source": [
    "say_hello = decorator(say_hello)\n",
    "say_hello()"
   ]
  },
  {
   "cell_type": "markdown",
   "id": "aa62d0b8",
   "metadata": {},
   "source": []
  },
  {
   "cell_type": "code",
   "execution_count": 40,
   "id": "b6abb1fd",
   "metadata": {},
   "outputs": [],
   "source": [
    "def decorator(func):\n",
    "    def wrapper(name):\n",
    "        func(name)\n",
    "    return wrapper\n",
    "\n",
    "def greet(name):\n",
    "    print(f'Hello {name}!')"
   ]
  },
  {
   "cell_type": "code",
   "execution_count": 41,
   "id": "4a0e3549",
   "metadata": {},
   "outputs": [
    {
     "name": "stdout",
     "output_type": "stream",
     "text": [
      "Hello Jonetta!\n"
     ]
    }
   ],
   "source": [
    "greet = decorator(greet)\n",
    "greet('Jonetta')"
   ]
  },
  {
   "cell_type": "markdown",
   "id": "12e04a0c",
   "metadata": {},
   "source": []
  },
  {
   "cell_type": "code",
   "execution_count": 42,
   "id": "367b4ac5",
   "metadata": {},
   "outputs": [],
   "source": [
    "@decorator\n",
    "def greet(name):\n",
    "    print(f'Hello {name}!')"
   ]
  },
  {
   "cell_type": "markdown",
   "id": "1f70a491",
   "metadata": {},
   "source": []
  },
  {
   "cell_type": "markdown",
   "id": "750dc430",
   "metadata": {},
   "source": [
    "###### General Syntax"
   ]
  },
  {
   "cell_type": "code",
   "execution_count": 4,
   "id": "de404fe9",
   "metadata": {},
   "outputs": [],
   "source": [
    "def do_twice(func):\n",
    "    def wrapper_do_twice(*args, **kwargs):\n",
    "        func(*args, **kwargs)\n",
    "        return func(*args, **kwargs)\n",
    "    return wrapper_do_twice\n",
    "\n",
    "@do_twice\n",
    "def greet(name):\n",
    "    print(f'Hello {name}')"
   ]
  },
  {
   "cell_type": "code",
   "execution_count": 5,
   "id": "aa1d9c9b",
   "metadata": {},
   "outputs": [
    {
     "name": "stdout",
     "output_type": "stream",
     "text": [
      "Hello Jonetta\n",
      "Hello Jonetta\n"
     ]
    }
   ],
   "source": [
    "greet('Jonetta')"
   ]
  },
  {
   "cell_type": "markdown",
   "id": "d3ea2c87",
   "metadata": {},
   "source": [
    "### Complex Decorators"
   ]
  }
 ],
 "metadata": {
  "kernelspec": {
   "display_name": "Python 3 (ipykernel)",
   "language": "python",
   "name": "python3"
  },
  "language_info": {
   "codemirror_mode": {
    "name": "ipython",
    "version": 3
   },
   "file_extension": ".py",
   "mimetype": "text/x-python",
   "name": "python",
   "nbconvert_exporter": "python",
   "pygments_lexer": "ipython3",
   "version": "3.11.3"
  }
 },
 "nbformat": 4,
 "nbformat_minor": 5
}
